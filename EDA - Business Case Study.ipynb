{
 "cells": [
  {
   "attachments": {},
   "cell_type": "markdown",
   "metadata": {},
   "source": [
    "# univariate Analysis\n",
    "    # Separate the type of variables\n",
    "    # Numbers (Quantitative variables)\n",
    "    # Characters (Qualitative variables - Categorical Variables)\n",
    "    # Date\n",
    "\n",
    "    # Pick a numeric column - \n",
    "        # Summary Statistics\n",
    "        # Missing values in the column (possible treatment of missing values)\n",
    "        # Outlier in this column\n",
    "        # Visualization\n",
    "        # Formating of this column\n",
    "        # Convert numeric range into the smaller bins\n",
    "        # Variablilty in this column\n",
    "\n",
    "    # Pick a categorical column\n",
    "        # How many distinct categories\n",
    "        # Number of records for each of these categories (frequency distribution)\n",
    "        # Missing values\n",
    "        # variability in this column\n",
    "        # variability in this column (dummy variable creation or one hot encoding)\n",
    "        # Histograms or other charts\n",
    "        # Cleaning of this column\n",
    "\n",
    "    # Repeat this for all the categorical variables"
   ]
  },
  {
   "attachments": {},
   "cell_type": "markdown",
   "metadata": {},
   "source": [
    "#  Bivariate Analysis\n",
    "    # between two numeric variables\n",
    "        # Correlation coefficient\n",
    "        # Scatter Plot\n",
    "        # Outliers in this pair\n",
    "        # Some thinking on applying transformation to make the relationship desired...\n",
    "        # Create a composite or derived column\n",
    "    # between two categorical variables (example City Profession)\n",
    "        # Distribution of profession w.r.t all the cities\n",
    "        # Is there a profession which is only present in few cities\n",
    "        # Explore Mosiac Chart\n",
    "        Pivot of these two columns\n",
    "        # Chi-Squared tests\n",
    "    # between one numeric and one categorical variable\n",
    "        # Box plot\n",
    "        # Pie Chart\n",
    "        # \n",
    "    #"
   ]
  }
 ],
 "metadata": {
  "kernelspec": {
   "display_name": "Python 3",
   "language": "python",
   "name": "python3"
  },
  "language_info": {
   "name": "python",
   "version": "3.10.6 (main, Nov  2 2022, 18:53:38) [GCC 11.3.0]"
  },
  "orig_nbformat": 4,
  "vscode": {
   "interpreter": {
    "hash": "916dbcbb3f70747c44a77c7bcd40155683ae19c65e1c03b4aa3499c5328201f1"
   }
  }
 },
 "nbformat": 4,
 "nbformat_minor": 2
}
